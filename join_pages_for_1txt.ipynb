{
 "cells": [
  {
   "cell_type": "code",
   "execution_count": 1,
   "id": "48cbabf5",
   "metadata": {},
   "outputs": [],
   "source": [
    "import os\n",
    "cwd = '/home/lf/Bureau/Memoire/Corpus/Georges_Bernanos'\n",
    "new_dir = 'home/lf/Bureau/Memoire/Corpus'"
   ]
  },
  {
   "cell_type": "code",
   "execution_count": 2,
   "id": "fe5d4adb",
   "metadata": {},
   "outputs": [],
   "source": [
    "\n",
    "main = os.listdir(cwd)\n",
    "for i in main:\n",
    "    texte = os.path.join(cwd,i,'TXT_out')\n",
    "    if os.path.isdir(texte):\n",
    "        text = sorted(os.listdir(texte))\n",
    "        for page_name in text:\n",
    "            page_file = os.path.join(cwd,i,'TXT_out',page_name)\n",
    "            with open(page_file,'r') as file:\n",
    "                txt = file.readlines()\n",
    "            with open('Georges_Bernanos'+i+'.txt','a') as file_:\n",
    "                file_.write(''.join(txt))"
   ]
  }
 ],
 "metadata": {
  "kernelspec": {
   "display_name": "Python 3 (ipykernel)",
   "language": "python",
   "name": "python3"
  },
  "language_info": {
   "codemirror_mode": {
    "name": "ipython",
    "version": 3
   },
   "file_extension": ".py",
   "mimetype": "text/x-python",
   "name": "python",
   "nbconvert_exporter": "python",
   "pygments_lexer": "ipython3",
   "version": "3.9.7"
  }
 },
 "nbformat": 4,
 "nbformat_minor": 5
}
