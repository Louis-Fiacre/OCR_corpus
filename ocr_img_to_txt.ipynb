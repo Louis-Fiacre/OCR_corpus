{
 "cells": [
  {
   "cell_type": "code",
   "execution_count": 1,
   "id": "593e0f0a",
   "metadata": {},
   "outputs": [],
   "source": [
    "import pytesseract\n",
    "import cv2\n",
    "import os\n",
    "import sys"
   ]
  },
  {
   "cell_type": "code",
   "execution_count": 2,
   "id": "044ae05f",
   "metadata": {},
   "outputs": [],
   "source": [
    "def make_dir(path_, dir_):\n",
    "\n",
    "        \"\"\" \n",
    "        créer un dossier dir_ dans path_ \n",
    "        s'il n'existe pas \n",
    "        \"\"\"\n",
    "        \n",
    "        new_path = os.path.join(path_, dir_)\n",
    "        \n",
    "        if not os.path.exists(new_path):\n",
    "\n",
    "            os.mkdir(new_path)\n",
    "\n",
    "        return(new_path)"
   ]
  },
  {
   "cell_type": "code",
   "execution_count": 3,
   "id": "fa71abdf",
   "metadata": {},
   "outputs": [],
   "source": [
    "def ocerisation(cwd, path_input='IMG', path_output='TXT_OUT'):\n",
    "    \n",
    "    os.chdir(cwd)\n",
    "    print(\"Main ->\",os.getcwd())\n",
    "\n",
    "    path_tesseract_dir = make_dir(cwd,path_output)\n",
    "\n",
    "    img_files = os.listdir(os.path.join(cwd,path_input))\n",
    "            \n",
    "    img_files = sorted(img_files)\n",
    "                \n",
    "    print(\" -> INPUT: \"+path_input+'-> OUTPUT: '+path_output)\n",
    "\n",
    "    page = 0\n",
    "\n",
    "    for img_file in img_files:\n",
    "\n",
    "\n",
    "        if img_file.endswith('.tif'):\n",
    "\t\n",
    "            page += 1\n",
    "\t\t\n",
    "            path_img_file = os.path.join(cwd, path_input, img_file)\n",
    "            txt_file = img_file[:-4]+\".txt\"\n",
    "            path_output_file = os.path.join(cwd, path_output, txt_file)\n",
    "\n",
    "            img = cv2.imread(path_img_file)\n",
    "\n",
    "            text = pytesseract.image_to_string(img, lang=\"fra\")\n",
    "\n",
    "            print(path_output_file)\n",
    "            with open(path_output_file,'w') as txtfile:\n",
    "                txtfile.write(text)\n",
    "\n",
    "            percent = round((page / len(img_files))*100)\n",
    "            sys.stdout.write(\"\\r OCR TXT : \" + str(percent) + \"% \" + str(page)+\"/\"+str(len(img_files)))\n",
    "            sys.stdout.flush()\n",
    "\t                    \n",
    "            sys.stdout.write(\"\\r\\n\")\n",
    "            os.chdir(cwd)"
   ]
  },
  {
   "cell_type": "code",
   "execution_count": null,
   "id": "3db8bee2",
   "metadata": {},
   "outputs": [
    {
     "name": "stdout",
     "output_type": "stream",
     "text": [
      "Main -> /home/lf/Bureau/Memoire/Corpus/Georges_Bernanos/scandale_de_la_verite\n",
      " -> INPUT: IMG/out-> OUTPUT: TXT_TESSERACT\n"
     ]
    }
   ],
   "source": [
    "IMG_DIR = 'IMG/out'\n",
    "OUTPUT_TXT_DIR = 'TXT_out'\n",
    "path = '/home/lf/Bureau/Memoire/Corpus/Georges_Bernanos/scandale_de_la_verite'\n",
    "ocerisation(path, IMG_DIR, OUTPUT_TXT_DIR)"
   ]
  },
  {
   "cell_type": "code",
   "execution_count": null,
   "id": "55f95b66",
   "metadata": {},
   "outputs": [],
   "source": []
  }
 ],
 "metadata": {
  "kernelspec": {
   "display_name": "Python 3 (ipykernel)",
   "language": "python",
   "name": "python3"
  },
  "language_info": {
   "codemirror_mode": {
    "name": "ipython",
    "version": 3
   },
   "file_extension": ".py",
   "mimetype": "text/x-python",
   "name": "python",
   "nbconvert_exporter": "python",
   "pygments_lexer": "ipython3",
   "version": "3.9.7"
  }
 },
 "nbformat": 4,
 "nbformat_minor": 5
}
